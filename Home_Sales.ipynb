{
 "cells": [
  {
   "cell_type": "code",
   "execution_count": 109,
   "metadata": {
    "colab": {
     "base_uri": "https://localhost:8080/"
    },
    "id": "a_KW73O2e3dw",
    "outputId": "fa5fd2b3-e2de-491b-ee1c-405317ba7ebc"
   },
   "outputs": [],
   "source": [
    "# Import findspark and initialize. \n",
    "import findspark\n",
    "findspark.init()"
   ]
  },
  {
   "cell_type": "code",
   "execution_count": 146,
   "metadata": {
    "id": "2XbWNf1Te5fM"
   },
   "outputs": [
    {
     "name": "stderr",
     "output_type": "stream",
     "text": [
      "25/01/12 04:50:22 WARN SparkSession: Using an existing Spark session; only runtime SQL configurations will take effect.\n"
     ]
    }
   ],
   "source": [
    "# Import packages\n",
    "from pyspark.sql import SparkSession\n",
    "import time\n",
    "\n",
    "# Create a SparkSession\n",
    "spark = SparkSession.builder.appName(\"SparkSQL\").getOrCreate()"
   ]
  },
  {
   "cell_type": "code",
   "execution_count": 156,
   "metadata": {
    "colab": {
     "base_uri": "https://localhost:8080/"
    },
    "id": "wOJqxG_RPSwp",
    "outputId": "7857ef9f-5b04-405d-f5aa-e535dfe7870c"
   },
   "outputs": [
    {
     "name": "stdout",
     "output_type": "stream",
     "text": [
      "True\n"
     ]
    }
   ],
   "source": [
    "import os\n",
    "\n",
    "file_path = \"/Users/latifahjones/Desktop/Home_Sales/Resources/home_sales_revised.csv\"\n",
    "print(os.path.exists(file_path))  # This should return True if the file exists"
   ]
  },
  {
   "cell_type": "code",
   "execution_count": 158,
   "metadata": {},
   "outputs": [
    {
     "name": "stdout",
     "output_type": "stream",
     "text": [
      "+-------------------------------+----------+\n",
      "|        偁刱ᔀᖦ븕ᖞ�틎밌ᰕ젅ᔀᔆᔈ\u0000鏟|date_built|\n",
      "+-------------------------------+----------+\n",
      "|      㐝\u0000>ăﺂāϾ됁ԐᨁϾ蠁৴愱᠁Ͼ㨁...|      NULL|\n",
      "|    逆ᰕ봇ᔀᔆᔈ\u0000�뾽氄䈀\u0000礆偸८...|      NULL|\n",
      "| ꣯뾽㽨吢䡸䀌౤㐹ⴎ㹇ᐹ愹挶㕍şࠔ␒...|      NULL|\n",
      "|Ⱐ⨜᐀夁伀㰥椁䘈─ᴁ狴鬁尯䰕䰰ᠸ㡢...|      NULL|\n",
      "|       ჯ뾽錃ቤ䔔㐌ฌၰՠ ఔတฅడĎࠑŹ...|      NULL|\n",
      "| 㺐缀\u0000呸ĩѠ㔁ᐔ䰶㍢ⴹ๜䘰ㄷ㠒恰ౢ...|      NULL|\n",
      "|쀰⁄㔷㈭戴㔰ⵥ㑦㤶㐱㠒ଓఎ࠷㥥渀ᤖ...|      NULL|\n",
      "|     መ\u0006ᔈӃ긎專뀄щċ†Ѱ⬅昄䌃๺崀\u0000...|      NULL|\n",
      "|  䠣⠀a洐ἐ愱扡๗簎戴ƍ࠺欎⇆䐌ࠔ堀...|      NULL|\n",
      "| ᐃȀ\\屐ᐲㄱㄷㄒ搎帙ቲ᠜䘘㝡捥懯...|      NULL|\n",
      "|    ఻ሻ䰎ﰎ๚ደ㱌⡄̴昲㙡ᘸᴌ〴ㄶ๜感...|      NULL|\n",
      "| ိ挶晡ᘨḈ戹㘒杗ᰱ㉤ぢ㈳ㄅ⠄〷โ...|      NULL|\n",
      "|  选ᬄ慣๋๸Ḝᰵ㜭㕢㈹敋ࠤe䅒␈夈搖...|      NULL|\n",
      "|       气ᐐъअሙ᰸ఄ\u001bĐ᠔ᘌЀ᥂Ď嚁㛰䁌...|      NULL|\n",
      "|        Ձ❈଄ሾ⥍๸ᆸ吐 t䴑ሀȁ洰ऀ㜧...|      NULL|\n",
      "|      ⵸ᝩ爁ୈौ㰣\u0000尢\u0000㴵\u0000瀟\u0000∅ᜡ⸎...|      NULL|\n",
      "|                              ฑ|      NULL|\n",
      "|    ꡜ䰖唹䰌ㄶⵦ๼̀\u0016ࡦ㜶๪ᘌበ与瑀⠽...|      NULL|\n",
      "|ᙠ繜䑀ᐼ㜵ⵢ㥣〭摦㤲攱、ᘄ\u000e砐瀋...|      NULL|\n",
      "|     ࿰慎प␀㘎圛ဴ昹ⴒؕࠋ࠴ᙤḰ䠀搎ࠛ...|      NULL|\n",
      "+-------------------------------+----------+\n",
      "only showing top 20 rows\n",
      "\n"
     ]
    }
   ],
   "source": [
    "df = spark.read.option(\"charset\", \"UTF-16\").csv(file_path, header=True, inferSchema=True)\n",
    "df.show()"
   ]
  },
  {
   "cell_type": "code",
   "execution_count": 160,
   "metadata": {},
   "outputs": [
    {
     "name": "stdout",
     "output_type": "stream",
     "text": [
      "+-----------------------------------+----------+\n",
      "|PAR1\u0015\u0000\u0015��\u0015\u0015��\u0014\u0015��μ\\f\u001c",
      "\u0015�\u0005\u0015\u0000\u0015\u0006\u0015\\b\u0000\u0000��|date_built|\n",
      "+-----------------------------------+----------+\n",
      "|               4\u001d",
      "\u0000\u0000\u0000>\u0001\u0003��\u0001\u0001\u0003��\u0001\u0005...|      NULL|\n",
      "|               �\u0006\u001c",
      "\u0015�\\a\u0015\u0000\u0015\u0006\u0015\\b\u0000\u0000ڪ...|      NULL|\n",
      "|               ��?hT\"Hx@\\f\\fd49-...|      NULL|\n",
      "|               , *\u001c",
      "\u0014\u0000Y\u0001O\u0000<%i\u0001F\\b...|      NULL|\n",
      "|               \u0010��\u0003\u0012dE\u00144\\f\u000e\\f\u0010p\u0005...|      NULL|\n",
      "|               >�\u0000\u0000\u0000Tx\u0001)\u0004`5\u0001\u0014\u0014L...|      NULL|\n",
      "|               �0 D572-b450-e4f9...|      NULL|\n",
      "|               \u0012\u0018\u0000\u0006\u0015\\b\u0004î\u000e\\\\b�\u0004\u0004I...|      NULL|\n",
      "|               H#(\u0000\u0000am\u0010\u001f\u0010a1ba\u000eW|...|      NULL|\n",
      "|               �C\u0014\u0003\u0002\u0000\u0000\\\\P\u0014211171...|      NULL|\n",
      "|                                 \\f|      NULL|\n",
      "|               �!\u0010-c6fa\u0016(\u001e",
      "\\bb96\u0012...|      NULL|\n",
      "|               �\\t\u001b\u0004ac\u000eK\u000ex\u001e",
      "\u001c",
      "\u001c",
      "57-...|      NULL|\n",
      "|               l\u0014\u0014\u0010\u0004J\\t\u0005\u0012\u0019\u001c",
      "8\\f\u0004\u0000...|      NULL|\n",
      "|                \u0005\u0005A'H\\v\u0004\u0012>)M\u000ex\u0011�...|      NULL|\n",
      "|               �F-x\u0017ir\u0001\\vH\\tL<#\u0000...|      NULL|\n",
      "|               �\\L\u0016U9L\\f16-f\u000e|\u0003\u0000...|      NULL|\n",
      "|               �>\u0016`~\\D@\u0014<75-b9c0...|      NULL|\n",
      "|               \u000f�aN\\t*$\u00006\u000eW\u001b\u00104f9...|      NULL|\n",
      "|               \u001c",
      "\u0001\u0000\u0000V$b16\u000e0s\u0018aea\u0001...|      NULL|\n",
      "+-----------------------------------+----------+\n",
      "only showing top 20 rows\n",
      "\n"
     ]
    }
   ],
   "source": [
    "df = spark.read.option(\"delimiter\", \";\").csv(file_path, header=True, inferSchema=True)\n",
    "df.show()"
   ]
  },
  {
   "cell_type": "code",
   "execution_count": 152,
   "metadata": {},
   "outputs": [
    {
     "name": "stdout",
     "output_type": "stream",
     "text": [
      "+-----------------------------------+----------+\n",
      "|PAR1\u0015\u0000\u0015��\u0015\u0015��\u0014\u0015��μ\\f\u001c",
      "\u0015�\u0005\u0015\u0000\u0015\u0006\u0015\\b\u0000\u0000��|date_built|\n",
      "+-----------------------------------+----------+\n",
      "|               4\u001d",
      "\u0000\u0000\u0000>\u0001\u0003��\u0001\u0001\u0003��\u0001\u0005...|      NULL|\n",
      "|               �\u0006\u001c",
      "\u0015�\\a\u0015\u0000\u0015\u0006\u0015\\b\u0000\u0000ڪ...|      NULL|\n",
      "|               ��?hT\"Hx@\\f\\fd49-...|      NULL|\n",
      "|                               NULL|      NULL|\n",
      "|               \u0010��\u0003\u0012dE\u00144\\f\u000e\\f\u0010p\u0005...|      NULL|\n",
      "|               >�\u0000\u0000\u0000Tx\u0001)\u0004`5\u0001\u0014\u0014L...|      NULL|\n",
      "|               �0 D572-b450-e4f9...|      NULL|\n",
      "|               \u0012\u0018\u0000\u0006\u0015\\b\u0004î\u000e\\\\b�\u0004\u0004I...|      NULL|\n",
      "|               H#(\u0000\u0000am\u0010\u001f\u0010a1ba\u000eW|...|      NULL|\n",
      "|               �C\u0014\u0003\u0002\u0000\u0000\\\\P\u0014211171...|      NULL|\n",
      "|               \\f;\u0012;L\u000e�\u000e\u000eZ\u0012�<L(D...|      NULL|\n",
      "|               �!\u0010-c6fa\u0016(\u001e",
      "\\bb96\u0012...|      NULL|\n",
      "|               �\\t\u001b\u0004ac\u000eK\u000ex\u001e",
      "\u001c",
      "\u001c",
      "57-...|      NULL|\n",
      "|               l\u0014\u0014\u0010\u0004J\\t\u0005\u0012\u0019\u001c",
      "8\\f\u0004\u0000...|      NULL|\n",
      "|                \u0005\u0005A'H\\v\u0004\u0012>)M\u000ex\u0011�...|      NULL|\n",
      "|               �F-x\u0017ir\u0001\\vH\\tL<#\u0000...|      NULL|\n",
      "|               �\\L\u0016U9L\\f16-f\u000e|\u0003\u0000...|      NULL|\n",
      "|               �>\u0016`~\\D@\u0014<75-b9c0...|      NULL|\n",
      "|               \u000f�aN\\t*$\u00006\u000eW\u001b\u00104f9...|      NULL|\n",
      "|               \u001c",
      "\u0001\u0000\u0000V$b16\u000e0s\u0018aea\u0001...|      NULL|\n",
      "+-----------------------------------+----------+\n",
      "only showing top 20 rows\n",
      "\n"
     ]
    }
   ],
   "source": [
    "# Check if the file exists\n",
    "if os.path.exists(file_path):\n",
    "    try:\n",
    "        # Read the CSV file into a DataFrame\n",
    "        df = spark.read.csv(file_path, header=True, inferSchema=True)\n",
    "        \n",
    "        # Create a temporary view of the DataFrame\n",
    "        df.createOrReplaceTempView(\"home_sales\")\n",
    "        \n",
    "        # Display the DataFrame to confirm it loaded correctly\n",
    "        df.show()\n",
    "    except Exception as e:\n",
    "        print(f\"Error reading the CSV file: {e}\")\n",
    "else:\n",
    "    print(f\"The file does not exist at the specified path: {file_path}\")"
   ]
  },
  {
   "cell_type": "code",
   "execution_count": 113,
   "metadata": {
    "colab": {
     "base_uri": "https://localhost:8080/"
    },
    "id": "L6fkwOeOmqvq",
    "outputId": "bdded620-79c4-488d-c7a5-91c6799c419e"
   },
   "outputs": [
    {
     "ename": "AnalysisException",
     "evalue": "[UNRESOLVED_COLUMN.WITH_SUGGESTION] A column or function parameter with name `bedrooms` cannot be resolved. Did you mean one of the following? [`date_built`, `PAR1\u0015\u0000\u0015��\u0015\u0015��\u0014\u0015��μ\f\u001c\u0015�\u0005\u0015\u0000\u0015\u0006\u0015\b\u0000\u0000��`].; line 6 pos 6;\n'Sort ['year ASC NULLS FIRST], true\n+- 'Aggregate ['YEAR('date)], ['YEAR('date) AS year#6809, 'ROUND('AVG('price), 2) AS average_price#6810]\n   +- 'Filter ('bedrooms = 4)\n      +- SubqueryAlias home_sales\n         +- View (`home_sales`, [PAR1\u0015\u0000\u0015��\u0015\u0015��\u0014\u0015��μ\f\u001c\u0015�\u0005\u0015\u0000\u0015\u0006\u0015\b\u0000\u0000��#6793,date_built#6794])\n            +- Relation [PAR1\u0015\u0000\u0015��\u0015\u0015��\u0014\u0015��μ\f\u001c\u0015�\u0005\u0015\u0000\u0015\u0006\u0015\b\u0000\u0000��#6793,date_built#6794] csv\n",
     "output_type": "error",
     "traceback": [
      "\u001b[0;31m---------------------------------------------------------------------------\u001b[0m",
      "\u001b[0;31mAnalysisException\u001b[0m                         Traceback (most recent call last)",
      "Cell \u001b[0;32mIn[113], line 12\u001b[0m\n\u001b[1;32m      1\u001b[0m \u001b[38;5;66;03m# 3. What is the average price for a four bedroom house sold per year, rounded to two decimal places?\u001b[39;00m\n\u001b[1;32m      2\u001b[0m average_price_query \u001b[38;5;241m=\u001b[39m \u001b[38;5;124m\"\"\"\u001b[39m\n\u001b[1;32m      3\u001b[0m \u001b[38;5;124mSELECT\u001b[39m\n\u001b[1;32m      4\u001b[0m \u001b[38;5;124m    YEAR(date) AS year,\u001b[39m\n\u001b[0;32m   (...)\u001b[0m\n\u001b[1;32m      9\u001b[0m \u001b[38;5;124mORDER BY year\u001b[39m\n\u001b[1;32m     10\u001b[0m \u001b[38;5;124m\"\"\"\u001b[39m\n\u001b[0;32m---> 12\u001b[0m average_price_df \u001b[38;5;241m=\u001b[39m spark\u001b[38;5;241m.\u001b[39msql(average_price_query)\n\u001b[1;32m     13\u001b[0m average_price_df\u001b[38;5;241m.\u001b[39mshow()\n",
      "File \u001b[0;32m/opt/anaconda3/lib/python3.12/site-packages/pyspark/sql/session.py:1631\u001b[0m, in \u001b[0;36mSparkSession.sql\u001b[0;34m(self, sqlQuery, args, **kwargs)\u001b[0m\n\u001b[1;32m   1627\u001b[0m         \u001b[38;5;28;01massert\u001b[39;00m \u001b[38;5;28mself\u001b[39m\u001b[38;5;241m.\u001b[39m_jvm \u001b[38;5;129;01mis\u001b[39;00m \u001b[38;5;129;01mnot\u001b[39;00m \u001b[38;5;28;01mNone\u001b[39;00m\n\u001b[1;32m   1628\u001b[0m         litArgs \u001b[38;5;241m=\u001b[39m \u001b[38;5;28mself\u001b[39m\u001b[38;5;241m.\u001b[39m_jvm\u001b[38;5;241m.\u001b[39mPythonUtils\u001b[38;5;241m.\u001b[39mtoArray(\n\u001b[1;32m   1629\u001b[0m             [_to_java_column(lit(v)) \u001b[38;5;28;01mfor\u001b[39;00m v \u001b[38;5;129;01min\u001b[39;00m (args \u001b[38;5;129;01mor\u001b[39;00m [])]\n\u001b[1;32m   1630\u001b[0m         )\n\u001b[0;32m-> 1631\u001b[0m     \u001b[38;5;28;01mreturn\u001b[39;00m DataFrame(\u001b[38;5;28mself\u001b[39m\u001b[38;5;241m.\u001b[39m_jsparkSession\u001b[38;5;241m.\u001b[39msql(sqlQuery, litArgs), \u001b[38;5;28mself\u001b[39m)\n\u001b[1;32m   1632\u001b[0m \u001b[38;5;28;01mfinally\u001b[39;00m:\n\u001b[1;32m   1633\u001b[0m     \u001b[38;5;28;01mif\u001b[39;00m \u001b[38;5;28mlen\u001b[39m(kwargs) \u001b[38;5;241m>\u001b[39m \u001b[38;5;241m0\u001b[39m:\n",
      "File \u001b[0;32m/opt/anaconda3/lib/python3.12/site-packages/py4j/java_gateway.py:1322\u001b[0m, in \u001b[0;36mJavaMember.__call__\u001b[0;34m(self, *args)\u001b[0m\n\u001b[1;32m   1316\u001b[0m command \u001b[38;5;241m=\u001b[39m proto\u001b[38;5;241m.\u001b[39mCALL_COMMAND_NAME \u001b[38;5;241m+\u001b[39m\\\n\u001b[1;32m   1317\u001b[0m     \u001b[38;5;28mself\u001b[39m\u001b[38;5;241m.\u001b[39mcommand_header \u001b[38;5;241m+\u001b[39m\\\n\u001b[1;32m   1318\u001b[0m     args_command \u001b[38;5;241m+\u001b[39m\\\n\u001b[1;32m   1319\u001b[0m     proto\u001b[38;5;241m.\u001b[39mEND_COMMAND_PART\n\u001b[1;32m   1321\u001b[0m answer \u001b[38;5;241m=\u001b[39m \u001b[38;5;28mself\u001b[39m\u001b[38;5;241m.\u001b[39mgateway_client\u001b[38;5;241m.\u001b[39msend_command(command)\n\u001b[0;32m-> 1322\u001b[0m return_value \u001b[38;5;241m=\u001b[39m get_return_value(\n\u001b[1;32m   1323\u001b[0m     answer, \u001b[38;5;28mself\u001b[39m\u001b[38;5;241m.\u001b[39mgateway_client, \u001b[38;5;28mself\u001b[39m\u001b[38;5;241m.\u001b[39mtarget_id, \u001b[38;5;28mself\u001b[39m\u001b[38;5;241m.\u001b[39mname)\n\u001b[1;32m   1325\u001b[0m \u001b[38;5;28;01mfor\u001b[39;00m temp_arg \u001b[38;5;129;01min\u001b[39;00m temp_args:\n\u001b[1;32m   1326\u001b[0m     \u001b[38;5;28;01mif\u001b[39;00m \u001b[38;5;28mhasattr\u001b[39m(temp_arg, \u001b[38;5;124m\"\u001b[39m\u001b[38;5;124m_detach\u001b[39m\u001b[38;5;124m\"\u001b[39m):\n",
      "File \u001b[0;32m/opt/anaconda3/lib/python3.12/site-packages/pyspark/errors/exceptions/captured.py:185\u001b[0m, in \u001b[0;36mcapture_sql_exception.<locals>.deco\u001b[0;34m(*a, **kw)\u001b[0m\n\u001b[1;32m    181\u001b[0m converted \u001b[38;5;241m=\u001b[39m convert_exception(e\u001b[38;5;241m.\u001b[39mjava_exception)\n\u001b[1;32m    182\u001b[0m \u001b[38;5;28;01mif\u001b[39;00m \u001b[38;5;129;01mnot\u001b[39;00m \u001b[38;5;28misinstance\u001b[39m(converted, UnknownException):\n\u001b[1;32m    183\u001b[0m     \u001b[38;5;66;03m# Hide where the exception came from that shows a non-Pythonic\u001b[39;00m\n\u001b[1;32m    184\u001b[0m     \u001b[38;5;66;03m# JVM exception message.\u001b[39;00m\n\u001b[0;32m--> 185\u001b[0m     \u001b[38;5;28;01mraise\u001b[39;00m converted \u001b[38;5;28;01mfrom\u001b[39;00m \u001b[38;5;28;01mNone\u001b[39;00m\n\u001b[1;32m    186\u001b[0m \u001b[38;5;28;01melse\u001b[39;00m:\n\u001b[1;32m    187\u001b[0m     \u001b[38;5;28;01mraise\u001b[39;00m\n",
      "\u001b[0;31mAnalysisException\u001b[0m: [UNRESOLVED_COLUMN.WITH_SUGGESTION] A column or function parameter with name `bedrooms` cannot be resolved. Did you mean one of the following? [`date_built`, `PAR1\u0015\u0000\u0015��\u0015\u0015��\u0014\u0015��μ\f\u001c\u0015�\u0005\u0015\u0000\u0015\u0006\u0015\b\u0000\u0000��`].; line 6 pos 6;\n'Sort ['year ASC NULLS FIRST], true\n+- 'Aggregate ['YEAR('date)], ['YEAR('date) AS year#6809, 'ROUND('AVG('price), 2) AS average_price#6810]\n   +- 'Filter ('bedrooms = 4)\n      +- SubqueryAlias home_sales\n         +- View (`home_sales`, [PAR1\u0015\u0000\u0015��\u0015\u0015��\u0014\u0015��μ\f\u001c\u0015�\u0005\u0015\u0000\u0015\u0006\u0015\b\u0000\u0000��#6793,date_built#6794])\n            +- Relation [PAR1\u0015\u0000\u0015��\u0015\u0015��\u0014\u0015��μ\f\u001c\u0015�\u0005\u0015\u0000\u0015\u0006\u0015\b\u0000\u0000��#6793,date_built#6794] csv\n"
     ]
    }
   ],
   "source": [
    "# 3. What is the average price for a four bedroom house sold per year, rounded to two decimal places?\n",
    "average_price_query = \"\"\"\n",
    "SELECT\n",
    "    YEAR(date) AS year,\n",
    "    ROUND(AVG(price), 2) AS average_price\n",
    "FROM home_sales\n",
    "WHERE bedrooms = 4\n",
    "GROUP BY YEAR(date)\n",
    "ORDER BY year\n",
    "\"\"\"\n",
    "\n",
    "average_price_df = spark.sql(average_price_query)\n",
    "average_price_df.show()"
   ]
  },
  {
   "cell_type": "code",
   "execution_count": null,
   "metadata": {
    "colab": {
     "base_uri": "https://localhost:8080/"
    },
    "id": "l8p_tUS8h8it",
    "outputId": "65806e5f-6262-41c0-ff65-5107464e5c4d"
   },
   "outputs": [],
   "source": [
    "# 4. What is the average price of a home for each year the home was built,\n",
    "# that have 3 bedrooms and 3 bathrooms, rounded to two decimal places?\n",
    "average_price_built_query = \"\"\"\n",
    "SELECT \n",
    "    date_built AS year_built, \n",
    "    ROUND(AVG(price), 2) AS average_price \n",
    "FROM \n",
    "    home_sales \n",
    "WHERE \n",
    "    bedrooms = 3 AND bathrooms = 3 \n",
    "GROUP BY \n",
    "    date_built \n",
    "ORDER BY \n",
    "    year_built\n",
    "\"\"\"\n",
    "\n",
    "# Run the query and create a DataFrame\n",
    "average_price_built_df = spark.sql(average_price_built_query)\n",
    "\n",
    "# Show the results\n",
    "average_price_built_df.show()"
   ]
  },
  {
   "cell_type": "code",
   "execution_count": null,
   "metadata": {
    "colab": {
     "base_uri": "https://localhost:8080/"
    },
    "id": "Y-Eytz64liDU",
    "outputId": "17119810-56ad-40c3-de5e-c3db57e43bcc"
   },
   "outputs": [],
   "source": [
    "# 5. What is the average price of a home for each year the home was built,\n",
    "# that have 3 bedrooms, 3 bathrooms, with two floors,\n",
    "# and are greater than or equal to 2,000 square feet, rounded to two decimal places?\n",
    "average_price_built_query = \"\"\"\n",
    "SELECT \n",
    "    date_built AS year_built, \n",
    "    ROUND(AVG(price), 2) AS average_price \n",
    "FROM \n",
    "    home_sales \n",
    "WHERE \n",
    "    bedrooms = 3 \n",
    "    AND bathrooms = 3 \n",
    "    AND floors = 2 \n",
    "    AND sqft_living >= 2000 \n",
    "GROUP BY \n",
    "    date_built \n",
    "ORDER BY \n",
    "    year_built\n",
    "\"\"\"\n",
    "\n",
    "# Run the query and create a DataFrame\n",
    "average_price_built_df = spark.sql(average_price_built_query)\n",
    "\n",
    "# Show the results\n",
    "average_price_built_df.show()"
   ]
  },
  {
   "cell_type": "code",
   "execution_count": null,
   "metadata": {
    "colab": {
     "base_uri": "https://localhost:8080/"
    },
    "id": "GUrfgOX1pCRd",
    "outputId": "17c25774-855e-4290-a4bd-a04902bdc13a"
   },
   "outputs": [],
   "source": [
    "# 6. What is the average price of a home per \"view\" rating, rounded to two decimal places,\n",
    "# having an average home price greater than or equal to $350,000? Order by descending view rating. \n",
    "# Although this is a small dataset, determine the run time for this query.\n",
    "\n",
    "# Start the timer\n",
    "start_time = time.time()\n",
    "\n",
    "# SQL query to calculate the average price of homes per view rating\n",
    "average_price_view_query = \"\"\"\n",
    "SELECT \n",
    "    view, \n",
    "    ROUND(AVG(price), 2) AS average_price \n",
    "FROM \n",
    "    home_sales \n",
    "WHERE \n",
    "    price >= 350000 \n",
    "GROUP BY \n",
    "    view \n",
    "ORDER BY \n",
    "    view DESC\n",
    "\"\"\"\n",
    "\n",
    "# Run the query and create a DataFrame\n",
    "average_price_view_df = spark.sql(average_price_view_query)\n",
    "\n",
    "# Show the results\n",
    "average_price_view_df.show()\n",
    "\n",
    "# Calculate and print the runtime\n",
    "print(\"--- %s seconds ---\" % (time.time() - start_time))"
   ]
  },
  {
   "cell_type": "code",
   "execution_count": null,
   "metadata": {
    "colab": {
     "base_uri": "https://localhost:8080/"
    },
    "id": "KAhk3ZD2tFy8",
    "outputId": "0a8f132d-40a8-4bd4-b5f2-2847e98427f5"
   },
   "outputs": [],
   "source": [
    "# 7. Cache the the temporary table home_sales.\n",
    "spark.sql(\"CACHE TABLE home_sales\")"
   ]
  },
  {
   "cell_type": "code",
   "execution_count": null,
   "metadata": {
    "colab": {
     "base_uri": "https://localhost:8080/"
    },
    "id": "4opVhbvxtL-i",
    "outputId": "38ec8487-795f-4550-b50c-fcc6f2b7c769"
   },
   "outputs": [],
   "source": [
    "# 8. Check if the table is cached.\n",
    "spark.catalog.isCached('home_sales')"
   ]
  },
  {
   "cell_type": "code",
   "execution_count": null,
   "metadata": {
    "colab": {
     "base_uri": "https://localhost:8080/"
    },
    "id": "5GnL46lwTSEk",
    "outputId": "09a16c73-194d-4371-95d1-ee64fe83b91c"
   },
   "outputs": [],
   "source": [
    "# 9. Using the cached data, run the last query above, that calculates \n",
    "# the average price of a home per \"view\" rating, rounded to two decimal places,\n",
    "# having an average home price greater than or equal to $350,000. \n",
    "# Determine the runtime and compare it to the uncached runtime.\n",
    "\n",
    "average_price_view_query = \"\"\"\n",
    "SELECT \n",
    "    view, \n",
    "    ROUND(AVG(price), 2) AS average_price \n",
    "FROM \n",
    "    home_sales \n",
    "WHERE \n",
    "    price >= 350000 \n",
    "GROUP BY \n",
    "    view \n",
    "ORDER BY \n",
    "    view DESC\n",
    "\"\"\"\n",
    "\n",
    "# Start the timer for the cached query\n",
    "start_time = time.time()\n",
    "\n",
    "# Run the query using the cached data and create a DataFrame\n",
    "average_price_view_cached_df = spark.sql(average_price_view_query)\n",
    "\n",
    "# Show the results\n",
    "average_price_view_cached_df.show()\n",
    "\n",
    "# Calculate and print the runtime for the cached query\n",
    "print(\"--- %s seconds ---\" % (time.time() - start_time))"
   ]
  },
  {
   "cell_type": "code",
   "execution_count": null,
   "metadata": {},
   "outputs": [],
   "source": [
    "# 11. Read the formatted parquet data.\n",
    "# Define the output path for the partitioned Parquet data\n",
    "output_path = \"/Users/latifahjones/Desktop/Home_Sales/Resources/home_sales_partitioned\"\n",
    "\n",
    "# Read the formatted Parquet data back into a DataFrame\n",
    "df_parquet = spark.read.parquet(output_path)\n",
    "\n",
    "# Show the DataFrame to verify the data\n",
    "df_parquet.show()"
   ]
  },
  {
   "cell_type": "code",
   "execution_count": null,
   "metadata": {},
   "outputs": [],
   "source": [
    "output_path = \"/Users/latifahjones/Desktop/Home_Sales/Resources/\"\n",
    "df_parquet = spark.read.parquet(output_path)\n",
    "df_parquet.show()"
   ]
  },
  {
   "cell_type": "code",
   "execution_count": null,
   "metadata": {
    "id": "J6MJkHfvVcvh"
   },
   "outputs": [],
   "source": [
    "# 12. Create a temporary table for the parquet data.\n"
   ]
  },
  {
   "cell_type": "code",
   "execution_count": null,
   "metadata": {
    "colab": {
     "base_uri": "https://localhost:8080/"
    },
    "id": "G_Vhb52rU1Sn",
    "outputId": "a0b8d0c4-55ed-4c6c-bfd8-4c8c5334838e"
   },
   "outputs": [],
   "source": [
    "# 13. Using the parquet DataFrame, run the last query above, that calculates \n",
    "# the average price of a home per \"view\" rating, rounded to two decimal places,\n",
    "# having an average home price greater than or equal to $350,000. \n",
    "# Determine the runtime and compare it to the cached runtime.\n",
    "\n",
    "start_time = time.time()\n",
    "\n",
    "\n",
    "\n",
    "print(\"--- %s seconds ---\" % (time.time() - start_time))"
   ]
  },
  {
   "cell_type": "code",
   "execution_count": null,
   "metadata": {
    "colab": {
     "base_uri": "https://localhost:8080/"
    },
    "id": "hjjYzQGjtbq8",
    "outputId": "830549fd-bb41-451b-9183-5ebf6e3e470b"
   },
   "outputs": [],
   "source": [
    "# 14. Uncache the home_sales temporary table.\n"
   ]
  },
  {
   "cell_type": "code",
   "execution_count": null,
   "metadata": {
    "colab": {
     "base_uri": "https://localhost:8080/"
    },
    "id": "Sy9NBvO7tlmm",
    "outputId": "be73e0e3-5e85-4794-aad9-025fb6fa84a7"
   },
   "outputs": [],
   "source": [
    "# 15. Check if the home_sales is no longer cached\n",
    "\n"
   ]
  },
  {
   "cell_type": "code",
   "execution_count": null,
   "metadata": {},
   "outputs": [],
   "source": []
  }
 ],
 "metadata": {
  "colab": {
   "collapsed_sections": [],
   "name": "Copy of Home_Sales_solution.ipynb",
   "provenance": []
  },
  "kernelspec": {
   "display_name": "Python 3 (ipykernel)",
   "language": "python",
   "name": "python3"
  },
  "language_info": {
   "codemirror_mode": {
    "name": "ipython",
    "version": 3
   },
   "file_extension": ".py",
   "mimetype": "text/x-python",
   "name": "python",
   "nbconvert_exporter": "python",
   "pygments_lexer": "ipython3",
   "version": "3.12.4"
  },
  "nteract": {
   "version": "0.28.0"
  }
 },
 "nbformat": 4,
 "nbformat_minor": 4
}
